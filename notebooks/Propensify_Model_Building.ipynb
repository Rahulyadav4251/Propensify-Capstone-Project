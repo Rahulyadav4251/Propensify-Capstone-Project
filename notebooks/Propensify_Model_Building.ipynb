{
 "cells": [
  {
   "cell_type": "markdown",
   "id": "3259265f",
   "metadata": {},
   "source": [
    "# Introduction\n",
    "This document explains the step involved in Building a suitable model for the Propensify  dataset. "
   ]
  },
  {
   "cell_type": "markdown",
   "id": "ece31bcc",
   "metadata": {},
   "source": [
    "## Data description"
   ]
  },
  {
   "cell_type": "markdown",
   "id": "1ce956e0",
   "metadata": {},
   "source": [
    "| Type            | Name           | Description                                                                 |\n",
    "|-----------------|----------------|-----------------------------------------------------------------------------|\n",
    "| Input Variables | custAge         | The age of the customer (in years)                                          |\n",
    "| Input Variables | profession      | Type of job                                                                 |\n",
    "| Input Variables | marital         | Marital status                                                              |\n",
    "| Input Variables | schooling       | Education level                                                             |\n",
    "| Input Variables | default         | Has a previous defaulted account?                                           |\n",
    "| Input Variables | housing         | Has a housing loan?                                                         |\n",
    "| Input Variables | loan            | Has a personal loan?                                                        |\n",
    "| Input Variables | contact         | Preferred contact type                                                      |\n",
    "| Input Variables | month           | Last contact month                                                          |\n",
    "| Input Variables | day_of_week     | Last contact day of the week                                                |\n",
    "| Input Variables | campaign        | Number of times the customer was contacted                                  |\n",
    "| Input Variables | pdays           | Number of days that passed by after the client was last contacted from a previous campaign (numeric; 999 means client was not previously contacted) |\n",
    "| Input Variables | previous        | Number of contacts performed before this campaign and for this client       |\n",
    "| Input Variables | poutcome        | Outcome of the previous marketing campaign                                  |\n",
    "| Input Variables | emp.var.rate    | Employment variation rate - quarterly indicator                             |\n",
    "| Input Variables | cons.price.idx  | Consumer price index - monthly indicator                                    |\n",
    "| Input Variables | cons.conf.idx   | Consumer confidence index - monthly indicator                               |\n",
    "| Input Variables | euribor3m       | Euribor 3 month rate - daily indicator                                      |\n",
    "| Input Variables | nr.employed     | Number of employees - quarterly indicator                                   |\n",
    "| Input Variables | pmonths         | Number of months that passed by after the client was last contacted from a previous campaign (numeric; 999 means client was not previously contacted) |\n",
    "| Input Variables | pastEmail       | Number of previous emails sent to this client                               |\n",
    "| Target Variables| responded       | Did the customer respond to the marketing campaign and purchase a policy?   |\n"
   ]
  },
  {
   "cell_type": "markdown",
   "id": "d74cd96e",
   "metadata": {},
   "source": [
    "**Summary** \n",
    "\n",
    "This dataset combines personal characteristics of the customers (like age, profession, loans), interaction history (like number of contacts, outcomes of previous campaigns), and economic indicators (like employment rate, consumer confidence) to model customer behavior. The ultimate goal is to predict the target variable responded, which indicates whether a customer will respond positively to the marketing campaign."
   ]
  },
  {
   "cell_type": "markdown",
   "id": "276f8048",
   "metadata": {},
   "source": [
    "--------------------------------------------"
   ]
  },
  {
   "cell_type": "markdown",
   "id": "381ad8c5",
   "metadata": {},
   "source": [
    "**Import the required libraries**"
   ]
  },
  {
   "cell_type": "code",
   "execution_count": 550,
   "id": "1bf303a7",
   "metadata": {},
   "outputs": [],
   "source": [
    "import pandas as pd\n",
    "import numpy as np\n",
    "import seaborn as sns\n",
    "import matplotlib.pyplot as plt\n",
    "from imblearn.over_sampling import SMOTE\n",
    "from sklearn.model_selection import train_test_split\n",
    "from sklearn.preprocessing import StandardScaler\n",
    "from sklearn.ensemble import RandomForestClassifier\n",
    "from sklearn.metrics import classification_report, accuracy_score\n",
    "from sklearn.model_selection import GridSearchCV"
   ]
  },
  {
   "cell_type": "markdown",
   "id": "f004d724",
   "metadata": {},
   "source": [
    "# Data import and EDA"
   ]
  },
  {
   "cell_type": "code",
   "execution_count": 551,
   "id": "75c3bed6",
   "metadata": {},
   "outputs": [
    {
     "data": {
      "text/plain": [
       "(8240, 24)"
      ]
     },
     "execution_count": 551,
     "metadata": {},
     "output_type": "execute_result"
    }
   ],
   "source": [
    "#load historical dataset\n",
    "df = pd.read_excel(r\"D:\\upgrade_pracctice\\Major Capstone Project\\propensify capstone upgrad\\data\\Propensify\\train.xlsx\")\n",
    "df.shape"
   ]
  },
  {
   "cell_type": "code",
   "execution_count": 552,
   "id": "05616c63",
   "metadata": {},
   "outputs": [
    {
     "data": {
      "text/html": [
       "<div>\n",
       "<style scoped>\n",
       "    .dataframe tbody tr th:only-of-type {\n",
       "        vertical-align: middle;\n",
       "    }\n",
       "\n",
       "    .dataframe tbody tr th {\n",
       "        vertical-align: top;\n",
       "    }\n",
       "\n",
       "    .dataframe thead th {\n",
       "        text-align: right;\n",
       "    }\n",
       "</style>\n",
       "<table border=\"1\" class=\"dataframe\">\n",
       "  <thead>\n",
       "    <tr style=\"text-align: right;\">\n",
       "      <th></th>\n",
       "      <th>custAge</th>\n",
       "      <th>profession</th>\n",
       "      <th>marital</th>\n",
       "      <th>schooling</th>\n",
       "      <th>default</th>\n",
       "      <th>housing</th>\n",
       "      <th>loan</th>\n",
       "      <th>contact</th>\n",
       "      <th>month</th>\n",
       "      <th>day_of_week</th>\n",
       "      <th>...</th>\n",
       "      <th>emp.var.rate</th>\n",
       "      <th>cons.price.idx</th>\n",
       "      <th>cons.conf.idx</th>\n",
       "      <th>euribor3m</th>\n",
       "      <th>nr.employed</th>\n",
       "      <th>pmonths</th>\n",
       "      <th>pastEmail</th>\n",
       "      <th>responded</th>\n",
       "      <th>profit</th>\n",
       "      <th>id</th>\n",
       "    </tr>\n",
       "  </thead>\n",
       "  <tbody>\n",
       "    <tr>\n",
       "      <th>0</th>\n",
       "      <td>34.0</td>\n",
       "      <td>admin.</td>\n",
       "      <td>single</td>\n",
       "      <td>university.degree</td>\n",
       "      <td>no</td>\n",
       "      <td>no</td>\n",
       "      <td>yes</td>\n",
       "      <td>cellular</td>\n",
       "      <td>apr</td>\n",
       "      <td>wed</td>\n",
       "      <td>...</td>\n",
       "      <td>-1.8</td>\n",
       "      <td>93.075</td>\n",
       "      <td>-47.1</td>\n",
       "      <td>1.498</td>\n",
       "      <td>5099.1</td>\n",
       "      <td>999.0</td>\n",
       "      <td>0.0</td>\n",
       "      <td>no</td>\n",
       "      <td>NaN</td>\n",
       "      <td>1.0</td>\n",
       "    </tr>\n",
       "    <tr>\n",
       "      <th>1</th>\n",
       "      <td>31.0</td>\n",
       "      <td>services</td>\n",
       "      <td>single</td>\n",
       "      <td>high.school</td>\n",
       "      <td>no</td>\n",
       "      <td>no</td>\n",
       "      <td>no</td>\n",
       "      <td>cellular</td>\n",
       "      <td>jul</td>\n",
       "      <td>thu</td>\n",
       "      <td>...</td>\n",
       "      <td>1.4</td>\n",
       "      <td>93.918</td>\n",
       "      <td>-42.7</td>\n",
       "      <td>4.968</td>\n",
       "      <td>5228.1</td>\n",
       "      <td>999.0</td>\n",
       "      <td>0.0</td>\n",
       "      <td>no</td>\n",
       "      <td>NaN</td>\n",
       "      <td>2.0</td>\n",
       "    </tr>\n",
       "    <tr>\n",
       "      <th>2</th>\n",
       "      <td>NaN</td>\n",
       "      <td>admin.</td>\n",
       "      <td>single</td>\n",
       "      <td>high.school</td>\n",
       "      <td>no</td>\n",
       "      <td>no</td>\n",
       "      <td>no</td>\n",
       "      <td>telephone</td>\n",
       "      <td>jun</td>\n",
       "      <td>NaN</td>\n",
       "      <td>...</td>\n",
       "      <td>1.4</td>\n",
       "      <td>94.465</td>\n",
       "      <td>-41.8</td>\n",
       "      <td>4.961</td>\n",
       "      <td>5228.1</td>\n",
       "      <td>999.0</td>\n",
       "      <td>0.0</td>\n",
       "      <td>no</td>\n",
       "      <td>NaN</td>\n",
       "      <td>3.0</td>\n",
       "    </tr>\n",
       "    <tr>\n",
       "      <th>3</th>\n",
       "      <td>52.0</td>\n",
       "      <td>admin.</td>\n",
       "      <td>divorced</td>\n",
       "      <td>university.degree</td>\n",
       "      <td>unknown</td>\n",
       "      <td>yes</td>\n",
       "      <td>no</td>\n",
       "      <td>cellular</td>\n",
       "      <td>jul</td>\n",
       "      <td>tue</td>\n",
       "      <td>...</td>\n",
       "      <td>1.4</td>\n",
       "      <td>93.918</td>\n",
       "      <td>-42.7</td>\n",
       "      <td>4.962</td>\n",
       "      <td>5228.1</td>\n",
       "      <td>999.0</td>\n",
       "      <td>0.0</td>\n",
       "      <td>no</td>\n",
       "      <td>NaN</td>\n",
       "      <td>4.0</td>\n",
       "    </tr>\n",
       "    <tr>\n",
       "      <th>4</th>\n",
       "      <td>39.0</td>\n",
       "      <td>blue-collar</td>\n",
       "      <td>single</td>\n",
       "      <td>NaN</td>\n",
       "      <td>unknown</td>\n",
       "      <td>yes</td>\n",
       "      <td>no</td>\n",
       "      <td>cellular</td>\n",
       "      <td>jul</td>\n",
       "      <td>tue</td>\n",
       "      <td>...</td>\n",
       "      <td>1.4</td>\n",
       "      <td>93.918</td>\n",
       "      <td>-42.7</td>\n",
       "      <td>4.961</td>\n",
       "      <td>5228.1</td>\n",
       "      <td>999.0</td>\n",
       "      <td>0.0</td>\n",
       "      <td>no</td>\n",
       "      <td>NaN</td>\n",
       "      <td>5.0</td>\n",
       "    </tr>\n",
       "  </tbody>\n",
       "</table>\n",
       "<p>5 rows × 24 columns</p>\n",
       "</div>"
      ],
      "text/plain": [
       "   custAge   profession   marital          schooling  default housing loan  \\\n",
       "0     34.0       admin.    single  university.degree       no      no  yes   \n",
       "1     31.0     services    single        high.school       no      no   no   \n",
       "2      NaN       admin.    single        high.school       no      no   no   \n",
       "3     52.0       admin.  divorced  university.degree  unknown     yes   no   \n",
       "4     39.0  blue-collar    single                NaN  unknown     yes   no   \n",
       "\n",
       "     contact month day_of_week  ...  emp.var.rate  cons.price.idx  \\\n",
       "0   cellular   apr         wed  ...          -1.8          93.075   \n",
       "1   cellular   jul         thu  ...           1.4          93.918   \n",
       "2  telephone   jun         NaN  ...           1.4          94.465   \n",
       "3   cellular   jul         tue  ...           1.4          93.918   \n",
       "4   cellular   jul         tue  ...           1.4          93.918   \n",
       "\n",
       "   cons.conf.idx euribor3m  nr.employed  pmonths  pastEmail  responded  \\\n",
       "0          -47.1     1.498       5099.1    999.0        0.0         no   \n",
       "1          -42.7     4.968       5228.1    999.0        0.0         no   \n",
       "2          -41.8     4.961       5228.1    999.0        0.0         no   \n",
       "3          -42.7     4.962       5228.1    999.0        0.0         no   \n",
       "4          -42.7     4.961       5228.1    999.0        0.0         no   \n",
       "\n",
       "   profit   id  \n",
       "0     NaN  1.0  \n",
       "1     NaN  2.0  \n",
       "2     NaN  3.0  \n",
       "3     NaN  4.0  \n",
       "4     NaN  5.0  \n",
       "\n",
       "[5 rows x 24 columns]"
      ]
     },
     "execution_count": 552,
     "metadata": {},
     "output_type": "execute_result"
    }
   ],
   "source": [
    "df.head()"
   ]
  },
  {
   "cell_type": "code",
   "execution_count": 553,
   "id": "7dd63d19",
   "metadata": {},
   "outputs": [
    {
     "name": "stdout",
     "output_type": "stream",
     "text": [
      "<class 'pandas.core.frame.DataFrame'>\n",
      "RangeIndex: 8240 entries, 0 to 8239\n",
      "Data columns (total 24 columns):\n",
      " #   Column          Non-Null Count  Dtype  \n",
      "---  ------          --------------  -----  \n",
      " 0   custAge         6224 non-null   float64\n",
      " 1   profession      8238 non-null   object \n",
      " 2   marital         8238 non-null   object \n",
      " 3   schooling       5832 non-null   object \n",
      " 4   default         8238 non-null   object \n",
      " 5   housing         8238 non-null   object \n",
      " 6   loan            8238 non-null   object \n",
      " 7   contact         8238 non-null   object \n",
      " 8   month           8238 non-null   object \n",
      " 9   day_of_week     7451 non-null   object \n",
      " 10  campaign        8238 non-null   float64\n",
      " 11  pdays           8238 non-null   float64\n",
      " 12  previous        8238 non-null   float64\n",
      " 13  poutcome        8238 non-null   object \n",
      " 14  emp.var.rate    8238 non-null   float64\n",
      " 15  cons.price.idx  8238 non-null   float64\n",
      " 16  cons.conf.idx   8238 non-null   float64\n",
      " 17  euribor3m       8238 non-null   float64\n",
      " 18  nr.employed     8238 non-null   float64\n",
      " 19  pmonths         8238 non-null   float64\n",
      " 20  pastEmail       8238 non-null   float64\n",
      " 21  responded       8238 non-null   object \n",
      " 22  profit          930 non-null    float64\n",
      " 23  id              8238 non-null   float64\n",
      "dtypes: float64(13), object(11)\n",
      "memory usage: 1.5+ MB\n"
     ]
    }
   ],
   "source": [
    "df.info()"
   ]
  },
  {
   "cell_type": "markdown",
   "id": "f4464789",
   "metadata": {},
   "source": [
    "Check if there are any unnecessary columns"
   ]
  },
  {
   "cell_type": "code",
   "execution_count": 554,
   "id": "0197fbac",
   "metadata": {},
   "outputs": [
    {
     "data": {
      "text/plain": [
       "Index(['custAge', 'profession', 'marital', 'schooling', 'default', 'housing',\n",
       "       'loan', 'contact', 'month', 'day_of_week', 'campaign', 'pdays',\n",
       "       'previous', 'poutcome', 'emp.var.rate', 'cons.price.idx',\n",
       "       'cons.conf.idx', 'euribor3m', 'nr.employed', 'pmonths', 'pastEmail',\n",
       "       'responded', 'profit', 'id'],\n",
       "      dtype='object')"
      ]
     },
     "execution_count": 554,
     "metadata": {},
     "output_type": "execute_result"
    }
   ],
   "source": [
    "df.columns"
   ]
  },
  {
   "cell_type": "code",
   "execution_count": 555,
   "id": "6a510019",
   "metadata": {},
   "outputs": [],
   "source": [
    "# Dropping unnecessary columns\n",
    "df = df.drop(['profit', 'id'], axis=1)"
   ]
  },
  {
   "cell_type": "markdown",
   "id": "e6d37850",
   "metadata": {},
   "source": [
    "**Target distribution**"
   ]
  },
  {
   "cell_type": "code",
   "execution_count": 556,
   "id": "d47a093a",
   "metadata": {},
   "outputs": [
    {
     "data": {
      "text/plain": [
       "responded\n",
       "no     88.714\n",
       "yes    11.262\n",
       "Name: count, dtype: float64"
      ]
     },
     "execution_count": 556,
     "metadata": {},
     "output_type": "execute_result"
    }
   ],
   "source": [
    "# Calculate Percentage of target\n",
    "round(df['responded'].value_counts()/ len(df) * 100, 3)\n"
   ]
  },
  {
   "cell_type": "markdown",
   "id": "d6c45040",
   "metadata": {},
   "source": [
    "The data is highly imbalanced, with about 88% of customers not responding to the marketing campaign, while only 11% did. It's important to address this imbalance in the target variable before building the model."
   ]
  },
  {
   "cell_type": "markdown",
   "id": "8bb43741",
   "metadata": {},
   "source": [
    "-------------------------------------------------------------------------------------------------------------------------------"
   ]
  },
  {
   "cell_type": "markdown",
   "id": "857481c5",
   "metadata": {},
   "source": [
    "# Treating Missing Values"
   ]
  },
  {
   "cell_type": "markdown",
   "id": "fe3090c2",
   "metadata": {},
   "source": [
    "Check if there are any missing values in the data"
   ]
  },
  {
   "cell_type": "code",
   "execution_count": 557,
   "id": "dc7e7973",
   "metadata": {},
   "outputs": [
    {
     "name": "stdout",
     "output_type": "stream",
     "text": [
      "Number of missing values in each column:\n",
      "custAge           2016\n",
      "profession           2\n",
      "marital              2\n",
      "schooling         2408\n",
      "default              2\n",
      "housing              2\n",
      "loan                 2\n",
      "contact              2\n",
      "month                2\n",
      "day_of_week        789\n",
      "campaign             2\n",
      "pdays                2\n",
      "previous             2\n",
      "poutcome             2\n",
      "emp.var.rate         2\n",
      "cons.price.idx       2\n",
      "cons.conf.idx        2\n",
      "euribor3m            2\n",
      "nr.employed          2\n",
      "pmonths              2\n",
      "pastEmail            2\n",
      "responded            2\n",
      "dtype: int64\n"
     ]
    }
   ],
   "source": [
    "missing_values = df.isnull().sum()\n",
    "print(\"Number of missing values in each column:\")\n",
    "print(missing_values)"
   ]
  },
  {
   "cell_type": "markdown",
   "id": "bede11d2",
   "metadata": {},
   "source": [
    "Age, day of the week, and schooling have missing values, making up about 25% of the dataset. These variables are crucial for predicting responses to the marketing campaign. Age affects insurance needs across different life stages, day of the week impacts availability (weekends vs weekdays), and schooling reflects education levels, which can influence insurance decisions. Dropping these variables isn’t ideal, so missing values will be imputed using appropriate techniques to retain their importance in the model."
   ]
  },
  {
   "cell_type": "markdown",
   "id": "c8b9035d",
   "metadata": {},
   "source": [
    "**1. Imputing missing schooling values:**\n",
    "\n",
    "Education significantly influences the type of employment individuals pursue. This study examines the relationship between education levels and the corresponding professions to evaluate the education-employment match hypothesis. In light of this, any missing education data is imputed based on the individual’s profession."
   ]
  },
  {
   "cell_type": "code",
   "execution_count": 558,
   "id": "f0f0f9a0",
   "metadata": {},
   "outputs": [
    {
     "data": {
      "text/html": [
       "<div>\n",
       "<style scoped>\n",
       "    .dataframe tbody tr th:only-of-type {\n",
       "        vertical-align: middle;\n",
       "    }\n",
       "\n",
       "    .dataframe tbody tr th {\n",
       "        vertical-align: top;\n",
       "    }\n",
       "\n",
       "    .dataframe thead th {\n",
       "        text-align: right;\n",
       "    }\n",
       "</style>\n",
       "<table border=\"1\" class=\"dataframe\">\n",
       "  <thead>\n",
       "    <tr style=\"text-align: right;\">\n",
       "      <th></th>\n",
       "      <th>profession</th>\n",
       "      <th>most_common_schooling</th>\n",
       "    </tr>\n",
       "  </thead>\n",
       "  <tbody>\n",
       "    <tr>\n",
       "      <th>0</th>\n",
       "      <td>admin.</td>\n",
       "      <td>university.degree</td>\n",
       "    </tr>\n",
       "    <tr>\n",
       "      <th>1</th>\n",
       "      <td>blue-collar</td>\n",
       "      <td>basic</td>\n",
       "    </tr>\n",
       "    <tr>\n",
       "      <th>2</th>\n",
       "      <td>entrepreneur</td>\n",
       "      <td>university.degree</td>\n",
       "    </tr>\n",
       "    <tr>\n",
       "      <th>3</th>\n",
       "      <td>housemaid</td>\n",
       "      <td>basic</td>\n",
       "    </tr>\n",
       "    <tr>\n",
       "      <th>4</th>\n",
       "      <td>management</td>\n",
       "      <td>university.degree</td>\n",
       "    </tr>\n",
       "    <tr>\n",
       "      <th>5</th>\n",
       "      <td>retired</td>\n",
       "      <td>basic</td>\n",
       "    </tr>\n",
       "    <tr>\n",
       "      <th>6</th>\n",
       "      <td>self-employed</td>\n",
       "      <td>university.degree</td>\n",
       "    </tr>\n",
       "    <tr>\n",
       "      <th>7</th>\n",
       "      <td>services</td>\n",
       "      <td>high.school</td>\n",
       "    </tr>\n",
       "    <tr>\n",
       "      <th>8</th>\n",
       "      <td>student</td>\n",
       "      <td>high.school</td>\n",
       "    </tr>\n",
       "    <tr>\n",
       "      <th>9</th>\n",
       "      <td>technician</td>\n",
       "      <td>professional.course</td>\n",
       "    </tr>\n",
       "    <tr>\n",
       "      <th>10</th>\n",
       "      <td>unemployed</td>\n",
       "      <td>basic</td>\n",
       "    </tr>\n",
       "    <tr>\n",
       "      <th>11</th>\n",
       "      <td>unknown</td>\n",
       "      <td>unknown</td>\n",
       "    </tr>\n",
       "  </tbody>\n",
       "</table>\n",
       "</div>"
      ],
      "text/plain": [
       "       profession most_common_schooling\n",
       "0          admin.     university.degree\n",
       "1     blue-collar                 basic\n",
       "2    entrepreneur     university.degree\n",
       "3       housemaid                 basic\n",
       "4      management     university.degree\n",
       "5         retired                 basic\n",
       "6   self-employed     university.degree\n",
       "7        services           high.school\n",
       "8         student           high.school\n",
       "9      technician   professional.course\n",
       "10     unemployed                 basic\n",
       "11        unknown               unknown"
      ]
     },
     "execution_count": 558,
     "metadata": {},
     "output_type": "execute_result"
    }
   ],
   "source": [
    "#Feature engineering for schooling\n",
    "schooling_category = {\n",
    "    'basic.4y' : 'basic',\n",
    "    'basic.6y' : 'basic',\n",
    "    'basic.9y' : 'basic',\n",
    "    'high.school': 'high.school',\n",
    "    'illiterate':'illiterate',\n",
    "    'professional.course': 'professional.course',\n",
    "    'university.degree':'university.degree',\n",
    "    'unknown':'unknown',\n",
    "}\n",
    "\n",
    "df['schooling'] = df['schooling'].replace(schooling_category)\n",
    "\n",
    "# Imputation of missing values in education based on profession\n",
    "\n",
    "mode_schooling = df.groupby('profession')['schooling'].agg(lambda x: x.mode()[0]).rename('most_common_schooling').reset_index()\n",
    "mode_schooling\n"
   ]
  },
  {
   "cell_type": "code",
   "execution_count": 559,
   "id": "268532cd",
   "metadata": {},
   "outputs": [],
   "source": [
    "imputation_mapping = {'admin.': 'university.degree',\n",
    " 'blue-collar': 'basic',\n",
    " 'entrepreneur': 'university.degree',\n",
    " 'housemaid': 'basic',\n",
    " 'management': 'university.degree',\n",
    " 'retired': 'basic',\n",
    " 'self-employed': 'university.degree',\n",
    " 'services': 'high.school',\n",
    " 'technician': 'professional.course',\n",
    " }\n",
    "\n",
    "df['schooling'] = df['schooling'].combine_first(df['profession'].map(imputation_mapping))"
   ]
  },
  {
   "cell_type": "markdown",
   "id": "28499a8e",
   "metadata": {},
   "source": [
    "**2. Treating missing age values**\n",
    "\n",
    "An individual's age can significantly affect their employment status. For instance, students are typically younger than retired individuals, while the ages of working individuals generally fall between these two groups. To address this, age values are imputed based on the individual’s  profession."
   ]
  },
  {
   "cell_type": "code",
   "execution_count": 560,
   "id": "9fc2443c",
   "metadata": {},
   "outputs": [],
   "source": [
    "# Calculate median age for each profession\n",
    "median_age = df.groupby('profession')['custAge'].median().rename('mean_age').reset_index()\n",
    "\n",
    "# Create a mapping from profession to mean age\n",
    "median_age_dict = median_age.set_index('profession')['mean_age'].to_dict()\n",
    "\n",
    "# Fill missing age values based on profession\n",
    "df['custAge']  = df['custAge'].fillna(df['profession'].map(median_age_dict))\n"
   ]
  },
  {
   "cell_type": "markdown",
   "id": "ce128898",
   "metadata": {},
   "source": [
    "**3. Imputing day of week :**\n",
    "\n",
    "   The day of the week distribution plot indicates that the marketing campaign is evenly distributed across all days. Therefore, missing values for the day of the week will be filled using a random selection method"
   ]
  },
  {
   "cell_type": "code",
   "execution_count": 561,
   "id": "d441caf8",
   "metadata": {},
   "outputs": [
    {
     "name": "stdout",
     "output_type": "stream",
     "text": [
      "day_of_week\n",
      "mon    1598\n",
      "thu    1533\n",
      "tue    1478\n",
      "wed    1473\n",
      "fri    1369\n",
      "Name: count, dtype: int64\n"
     ]
    }
   ],
   "source": [
    "day_values = df['day_of_week'].value_counts()\n",
    "print(day_values)"
   ]
  },
  {
   "cell_type": "code",
   "execution_count": 562,
   "id": "de02b7af",
   "metadata": {},
   "outputs": [],
   "source": [
    "# list unique days of the week\n",
    "unique_days = df['day_of_week'].dropna().unique()\n",
    "\n",
    "# Generate random selections for missing values\n",
    "num_missing = df['day_of_week'].isnull().sum()\n",
    "random_days = np.random.choice(unique_days, size=num_missing)\n",
    "\n",
    "#  Fill missing values with the randomly selected days\n",
    "df.loc[df['day_of_week'].isnull(), 'day_of_week'] = random_days"
   ]
  },
  {
   "cell_type": "code",
   "execution_count": 563,
   "id": "9d3c354f",
   "metadata": {},
   "outputs": [
    {
     "data": {
      "image/png": "[encoded data removed]",
      "text/plain": [
       "<Figure size 1000x600 with 1 Axes>"
      ]
     },
     "metadata": {},
     "output_type": "display_data"
    }
   ],
   "source": [
    "#day of week new distribution\n",
    "plt.figure(figsize=(10, 6))\n",
    "sns.countplot(x='day_of_week', data=df, order=['mon', 'tue', 'wed', 'thu', 'fri'])\n",
    "plt.title('Distribution of day_of_week')\n",
    "plt.ylabel('Count')\n",
    "plt.show()"
   ]
  },
  {
   "cell_type": "markdown",
   "id": "9738ab5e",
   "metadata": {},
   "source": [
    "**Dropping the remaining missing values**"
   ]
  },
  {
   "cell_type": "code",
   "execution_count": 564,
   "id": "d0035f09",
   "metadata": {},
   "outputs": [
    {
     "name": "stdout",
     "output_type": "stream",
     "text": [
      "Number of missing values in each column:\n",
      "custAge             2\n",
      "profession          2\n",
      "marital             2\n",
      "schooling         135\n",
      "default             2\n",
      "housing             2\n",
      "loan                2\n",
      "contact             2\n",
      "month               2\n",
      "day_of_week         0\n",
      "campaign            2\n",
      "pdays               2\n",
      "previous            2\n",
      "poutcome            2\n",
      "emp.var.rate        2\n",
      "cons.price.idx      2\n",
      "cons.conf.idx       2\n",
      "euribor3m           2\n",
      "nr.employed         2\n",
      "pmonths             2\n",
      "pastEmail           2\n",
      "responded           2\n",
      "dtype: int64\n"
     ]
    }
   ],
   "source": [
    "missing_values = df.isnull().sum()\n",
    "print(\"Number of missing values in each column:\")\n",
    "print(missing_values)"
   ]
  },
  {
   "cell_type": "code",
   "execution_count": 565,
   "id": "a57b6754",
   "metadata": {},
   "outputs": [],
   "source": [
    "#Now, dropping remaining missing values\n",
    "df = df.dropna()"
   ]
  },
  {
   "cell_type": "code",
   "execution_count": 566,
   "id": "64bb56c0",
   "metadata": {},
   "outputs": [
    {
     "name": "stdout",
     "output_type": "stream",
     "text": [
      "Number of missing values in each column:\n",
      "custAge           0\n",
      "profession        0\n",
      "marital           0\n",
      "schooling         0\n",
      "default           0\n",
      "housing           0\n",
      "loan              0\n",
      "contact           0\n",
      "month             0\n",
      "day_of_week       0\n",
      "campaign          0\n",
      "pdays             0\n",
      "previous          0\n",
      "poutcome          0\n",
      "emp.var.rate      0\n",
      "cons.price.idx    0\n",
      "cons.conf.idx     0\n",
      "euribor3m         0\n",
      "nr.employed       0\n",
      "pmonths           0\n",
      "pastEmail         0\n",
      "responded         0\n",
      "dtype: int64\n"
     ]
    }
   ],
   "source": [
    "missing_values = df.isnull().sum()\n",
    "print(\"Number of missing values in each column:\")\n",
    "print(missing_values)"
   ]
  },
  {
   "cell_type": "code",
   "execution_count": 567,
   "id": "36a9637e",
   "metadata": {},
   "outputs": [
    {
     "data": {
      "text/plain": [
       "(8105, 22)"
      ]
     },
     "execution_count": 567,
     "metadata": {},
     "output_type": "execute_result"
    }
   ],
   "source": [
    "df.shape"
   ]
  },
  {
   "cell_type": "markdown",
   "id": "d5ae6ea6",
   "metadata": {},
   "source": [
    "-------------------------------------------------------------------------------------------------------------------------------"
   ]
  },
  {
   "cell_type": "markdown",
   "id": "1b02b3f4",
   "metadata": {},
   "source": [
    "# Feature Engineering "
   ]
  },
  {
   "cell_type": "markdown",
   "id": "d7127206",
   "metadata": {},
   "source": [
    "Feature engineering of categorical variables:"
   ]
  },
  {
   "cell_type": "markdown",
   "id": "8b289c9f",
   "metadata": {},
   "source": [
    "**1. Profession:**\n",
    "\n",
    "The profession can be label encoded whether an individual is dependent or working. Dependents insurance is in general \n",
    "taken care by the head of the family or by the state. Hence the label encoding is done accordingly."
   ]
  },
  {
   "cell_type": "code",
   "execution_count": 568,
   "id": "75627193",
   "metadata": {},
   "outputs": [
    {
     "name": "stdout",
     "output_type": "stream",
     "text": [
      "profession\n",
      "admin.           2102\n",
      "blue-collar      1847\n",
      "technician       1351\n",
      "services          792\n",
      "management        583\n",
      "retired           337\n",
      "entrepreneur      314\n",
      "self-employed     279\n",
      "housemaid         213\n",
      "unemployed        125\n",
      "student           109\n",
      "unknown            53\n",
      "Name: count, dtype: int64\n"
     ]
    }
   ],
   "source": [
    "#1. Profession Distribution\n",
    "\n",
    "# Display the value counts\n",
    "profession_counts = df['profession'].value_counts()\n",
    "print(profession_counts)"
   ]
  },
  {
   "cell_type": "code",
   "execution_count": 569,
   "id": "338a1af7",
   "metadata": {},
   "outputs": [
    {
     "name": "stdout",
     "output_type": "stream",
     "text": [
      "profession\n",
      "Working               7481\n",
      "Dependents             446\n",
      "Unemployed&Unknown     178\n",
      "Name: count, dtype: int64\n"
     ]
    }
   ],
   "source": [
    "# Mapping for label encoding\n",
    "profession_mapping = {\n",
    "    'student': 'Dependents', \n",
    "    'retired': 'Dependents', \n",
    "    'unemployed': 'Unemployed&Unknown', \n",
    "    'unknown': 'Unemployed&Unknown', \n",
    "    'admin.': 'Working',\n",
    "    'blue-collar': 'Working',\n",
    "    'entrepreneur': 'Working',\n",
    "    'housemaid': 'Working',\n",
    "    'management': 'Working',\n",
    "    'self-employed': 'Working',\n",
    "    'services': 'Working',\n",
    "    'technician': 'Working'\n",
    "}\n",
    "\n",
    "# Apply the mapping to the 'profession' column\n",
    "df['profession'] = df['profession'].map(profession_mapping)\n",
    "\n",
    "# Display the updated value counts\n",
    "profession_counts = df['profession'].value_counts()\n",
    "\n",
    "# Display the updated DataFrame in a clear format\n",
    "print(profession_counts)\n"
   ]
  },
  {
   "cell_type": "markdown",
   "id": "9d9d769e",
   "metadata": {},
   "source": [
    "**2. Marital:**\n",
    "\n",
    "Considering single and divorcee as a single caregory and keeping married and unknown as different categories"
   ]
  },
  {
   "cell_type": "code",
   "execution_count": 570,
   "id": "e86dc2c5",
   "metadata": {},
   "outputs": [
    {
     "name": "stdout",
     "output_type": "stream",
     "text": [
      "marital\n",
      "married     4900\n",
      "single      2273\n",
      "divorced     922\n",
      "unknown       10\n",
      "Name: count, dtype: int64\n"
     ]
    }
   ],
   "source": [
    "#2. Marital distribution\n",
    "\n",
    "# Display the value counts\n",
    "profession_counts = df['marital'].value_counts()\n",
    "print(profession_counts)"
   ]
  },
  {
   "cell_type": "code",
   "execution_count": 571,
   "id": "03feb958",
   "metadata": {},
   "outputs": [
    {
     "name": "stdout",
     "output_type": "stream",
     "text": [
      "marital\n",
      "Married            4900\n",
      "Single&Divorced    3195\n",
      "Unknown              10\n",
      "Name: count, dtype: int64\n"
     ]
    }
   ],
   "source": [
    "# Mapping for label encoding\n",
    "marital_mapping = {\n",
    "    'single': 'Single&Divorced', \n",
    "    'divorced': 'Single&Divorced', \n",
    "    'married': 'Married', \n",
    "    'unknown': 'Unknown'\n",
    "}\n",
    "\n",
    "# Apply the mapping to the 'marital' column\n",
    "df['marital'] = df['marital'].map(marital_mapping)\n",
    "\n",
    "# Display the updated value counts\n",
    "marital_counts = df['marital'].value_counts()\n",
    "print(marital_counts)\n"
   ]
  },
  {
   "cell_type": "markdown",
   "id": "ec56943e",
   "metadata": {},
   "source": [
    "**3. Schooling:**\n",
    "\n",
    "An indiviudual's education can explain whether an indiidual is illiterate, or basic-educated or educated. Label encoding accordingly."
   ]
  },
  {
   "cell_type": "code",
   "execution_count": 572,
   "id": "859e6faf",
   "metadata": {},
   "outputs": [
    {
     "name": "stdout",
     "output_type": "stream",
     "text": [
      "schooling\n",
      "university.degree      2685\n",
      "basic                  2456\n",
      "high.school            1579\n",
      "professional.course    1124\n",
      "unknown                 260\n",
      "illiterate                1\n",
      "Name: count, dtype: int64\n"
     ]
    }
   ],
   "source": [
    "#2. Schooling distribution\n",
    "\n",
    "# Display the value counts\n",
    "profession_counts = df['schooling'].value_counts()\n",
    "print(profession_counts)"
   ]
  },
  {
   "cell_type": "code",
   "execution_count": 573,
   "id": "34581e46",
   "metadata": {},
   "outputs": [
    {
     "name": "stdout",
     "output_type": "stream",
     "text": [
      "schooling\n",
      "Uneducated&BasicEducation    4036\n",
      "Educated                     3809\n",
      "Unknown                       260\n",
      "Name: count, dtype: int64\n"
     ]
    }
   ],
   "source": [
    "# Mapping for label encoding\n",
    "schooling_mapping = {\n",
    "    'basic': 'Uneducated&BasicEducation', \n",
    "    'high.school': 'Uneducated&BasicEducation', \n",
    "    'illiterate': 'Uneducated&BasicEducation', \n",
    "    'unknown': 'Unknown',\n",
    "    'professional.course': 'Educated',\n",
    "    'university.degree': 'Educated'\n",
    "}\n",
    "\n",
    "# Apply the mapping to the 'schooling' column\n",
    "df['schooling'] = df['schooling'].map(schooling_mapping)\n",
    "\n",
    "# Display the updated value counts\n",
    "schooling_counts = df['schooling'].value_counts()\n",
    "print(schooling_counts)\n"
   ]
  },
  {
   "cell_type": "markdown",
   "id": "fa982db9",
   "metadata": {},
   "source": [
    "**4. Month:**\n",
    "\n",
    "Transforming monthly data into quarterly data helps prevent the creation of an excessive number of dimensions during one-hot encoding."
   ]
  },
  {
   "cell_type": "code",
   "execution_count": 574,
   "id": "b6217f62",
   "metadata": {},
   "outputs": [
    {
     "data": {
      "image/png": "[encoded data removed]",
      "text/plain": [
       "<Figure size 640x480 with 1 Axes>"
      ]
     },
     "metadata": {},
     "output_type": "display_data"
    }
   ],
   "source": [
    "# Monthly distribution of count\n",
    "\n",
    "# Filter for 'yes' responses, then count occurrences of 'month' and sort by count\n",
    "df_yes_sorted = df[df['responded'] == 'yes']['month'].value_counts().sort_values(ascending=False)\n",
    "\n",
    "# Create the bar plot sorted by 'yes' values\n",
    "sns.countplot(data=df, x='month', hue='responded', order=df_yes_sorted.index, edgecolor='black')\n",
    "plt.title('Month Sorted by Responded = Yes')\n",
    "plt.xlabel('Month')\n",
    "plt.ylabel('Count')\n",
    "plt.show()"
   ]
  },
  {
   "cell_type": "code",
   "execution_count": 575,
   "id": "38554726",
   "metadata": {},
   "outputs": [],
   "source": [
    "# Transforming month to quarter in a new column\n",
    "# Create a dictionary mapping  month names to quarters\n",
    "month_to_quarter = {\n",
    "    'jan': 'Q1', 'feb': 'Q1', 'mar': 'Q1',\n",
    "    'apr': 'Q2', 'may': 'Q2', 'jun': 'Q2',\n",
    "    'jul': 'Q3', 'aug': 'Q3', 'sep': 'Q3',\n",
    "    'oct': 'Q4', 'nov': 'Q4', 'dec': 'Q4'\n",
    "}\n",
    "\n",
    "# Map the  month names to quarters\n",
    "df['quarter'] = df['month'].map(month_to_quarter)\n",
    "\n",
    "# Dropping month column\n",
    "df = df.drop(columns='month', axis=1)"
   ]
  },
  {
   "cell_type": "code",
   "execution_count": 576,
   "id": "5f33f61e",
   "metadata": {},
   "outputs": [
    {
     "data": {
      "image/png": "[encoded data removed]",
      "text/plain": [
       "<Figure size 640x480 with 1 Axes>"
      ]
     },
     "metadata": {},
     "output_type": "display_data"
    }
   ],
   "source": [
    "# updated Quarterly distribution of count\n",
    "# Filter for 'yes' responses, then count occurrences of 'quarter' and sort by count\n",
    "df_yes_sorted = df[df['responded'] == 'yes']['quarter'].value_counts().sort_values(ascending=False)\n",
    "\n",
    "# Create the bar plot sorted by 'yes' values in quarters\n",
    "sns.countplot(data=df, x='quarter', hue='responded', order=df_yes_sorted.index, edgecolor='black')\n",
    "plt.title('Quarter Sorted by Responded = Yes')\n",
    "plt.xlabel('Quarter')\n",
    "plt.ylabel('Count')\n",
    "plt.show()"
   ]
  },
  {
   "cell_type": "markdown",
   "id": "d5d348a9",
   "metadata": {},
   "source": [
    "**5. pdays and pmonths**"
   ]
  },
  {
   "cell_type": "code",
   "execution_count": 577,
   "id": "d8d79322",
   "metadata": {},
   "outputs": [],
   "source": [
    "# transforming pdays and pmonths into relevant bins\n",
    "#pdays transformation\n",
    "conditions = [\n",
    "    (df['pdays'] == 999),\n",
    "    (df['pdays'] < 5),\n",
    "    ((df['pdays'] >= 5) & (df['pdays'] <= 10)),\n",
    "    (df['pdays'] > 10)\n",
    "]\n",
    "\n",
    "choices = ['new visit', 'less than 5 days', '5 to 10 days', 'more than 10 days']\n",
    "\n",
    "# Create the 'pduration' column based on conditions\n",
    "df['pdays_bin'] = np.select(conditions, choices, default='unknown')\n",
    "\n",
    "#pmonths\n",
    "conditions = [\n",
    "    (df['pmonths'] == 999),\n",
    "    (df['pmonths'] <= 0.2),\n",
    "    (df['pmonths'] > 0.2)\n",
    "]\n",
    "\n",
    "choices = ['new visit', 'less than 2 months',  'more than 2 months']\n",
    "\n",
    "# Create the 'pduration' column based on conditions\n",
    "df['pmonths_bin'] = np.select(conditions, choices, default='unknown')\n"
   ]
  },
  {
   "cell_type": "markdown",
   "id": "347d5b0e",
   "metadata": {},
   "source": [
    "6. **Day of week:**"
   ]
  },
  {
   "cell_type": "code",
   "execution_count": 578,
   "id": "976eec6c",
   "metadata": {},
   "outputs": [
    {
     "data": {
      "text/plain": [
       "day_of_week\n",
       "WeekBeginning    4966\n",
       "WeekEnding       3139\n",
       "Name: count, dtype: int64"
      ]
     },
     "execution_count": 578,
     "metadata": {},
     "output_type": "execute_result"
    }
   ],
   "source": [
    "#Label encoding\n",
    "df['day_of_week'] = df['day_of_week'].map({'mon': 'WeekBeginning', 'tue': 'WeekBeginning','wed':'WeekBeginning',\n",
    "                                                                      'thu':'WeekEnding','fri':'WeekEnding'})\n",
    "\n",
    "# Display the updated DataFrame\n",
    "df['day_of_week'].value_counts()"
   ]
  },
  {
   "cell_type": "markdown",
   "id": "1a749744",
   "metadata": {},
   "source": [
    "**7. Default:**"
   ]
  },
  {
   "cell_type": "code",
   "execution_count": 579,
   "id": "89705890",
   "metadata": {},
   "outputs": [
    {
     "data": {
      "text/plain": [
       "default\n",
       "No             6504\n",
       "Yes&Unknown    1601\n",
       "Name: count, dtype: int64"
      ]
     },
     "execution_count": 579,
     "metadata": {},
     "output_type": "execute_result"
    }
   ],
   "source": [
    "# Yes and Unknown are grouped together and No is kept as a seperate category\n",
    "#Label encoding\n",
    "df['default'] = df['default'].map({'no': 'No', 'unknown': 'Yes&Unknown','yes':'Yes&Unknown' })\n",
    "\n",
    "# Display the updated DataFrame\n",
    "df['default'].value_counts()"
   ]
  },
  {
   "cell_type": "code",
   "execution_count": 580,
   "id": "68f87028",
   "metadata": {},
   "outputs": [
    {
     "data": {
      "text/plain": [
       "custAge           float64\n",
       "profession         object\n",
       "marital            object\n",
       "schooling          object\n",
       "default            object\n",
       "housing            object\n",
       "loan               object\n",
       "contact            object\n",
       "day_of_week        object\n",
       "campaign          float64\n",
       "pdays             float64\n",
       "previous          float64\n",
       "poutcome           object\n",
       "emp.var.rate      float64\n",
       "cons.price.idx    float64\n",
       "cons.conf.idx     float64\n",
       "euribor3m         float64\n",
       "nr.employed       float64\n",
       "pmonths           float64\n",
       "pastEmail         float64\n",
       "responded          object\n",
       "quarter            object\n",
       "pdays_bin          object\n",
       "pmonths_bin        object\n",
       "dtype: object"
      ]
     },
     "execution_count": 580,
     "metadata": {},
     "output_type": "execute_result"
    }
   ],
   "source": [
    "df.dtypes"
   ]
  },
  {
   "cell_type": "markdown",
   "id": "6a1fd12d",
   "metadata": {},
   "source": [
    "**Leaving rest of the columns unchanged**"
   ]
  },
  {
   "cell_type": "markdown",
   "id": "29ebbd09",
   "metadata": {},
   "source": [
    "----------------------------------------------------------------------------------------------------------------------------"
   ]
  },
  {
   "cell_type": "markdown",
   "id": "591b0942",
   "metadata": {},
   "source": []
  },
  {
   "cell_type": "markdown",
   "id": "77645c34",
   "metadata": {},
   "source": [
    "## One hot encoding categoric features"
   ]
  },
  {
   "cell_type": "code",
   "execution_count": 581,
   "id": "cc94847d",
   "metadata": {},
   "outputs": [],
   "source": [
    "# One hot encoding and normalization for appropriate variables \n",
    "# Drop target and unnecessary columns\n",
    "X = df.drop(['responded', 'pdays','pmonths'], axis=1)\n",
    "y = df['responded']\n",
    "\n",
    "# categorical columns\n",
    "cat_col = X.select_dtypes('object').columns\n",
    "\n",
    "# One-hot encode categorical columns\n",
    "X_encoded = pd.get_dummies(X, columns= cat_col ,drop_first=True)"
   ]
  },
  {
   "cell_type": "markdown",
   "id": "381755fe",
   "metadata": {},
   "source": [
    "## Normalizing continuous features "
   ]
  },
  {
   "cell_type": "code",
   "execution_count": 582,
   "id": "20e7653c",
   "metadata": {},
   "outputs": [],
   "source": [
    "# Identify continuous columns for normalization\n",
    "continuous_columns = X.select_dtypes('float').columns\n",
    "\n",
    "# Extract the continuous columns from X_encoded\n",
    "X_continuous = X_encoded[continuous_columns]\n",
    "\n",
    "# Instantiate StandardScaler\n",
    "scaler = StandardScaler()\n",
    "\n",
    "# Fit and transform the scaler on the continuous data\n",
    "X_continuous_normalized = scaler.fit_transform(X_continuous)\n",
    "\n",
    "# Replace the original continuous columns in X_encoded with the normalized ones\n",
    "X_encoded[continuous_columns] = X_continuous_normalized\n",
    "\n"
   ]
  },
  {
   "cell_type": "code",
   "execution_count": 583,
   "id": "7bdfc4ab",
   "metadata": {},
   "outputs": [],
   "source": [
    "# encoding target variable to [0,1]\n",
    "from sklearn.preprocessing import LabelEncoder\n",
    "label_encoder = LabelEncoder()\n",
    "\n",
    "y_encoded = label_encoder.fit_transform(y)"
   ]
  },
  {
   "cell_type": "code",
   "execution_count": 584,
   "id": "8865c760",
   "metadata": {},
   "outputs": [
    {
     "data": {
      "text/html": [
       "<div>\n",
       "<style scoped>\n",
       "    .dataframe tbody tr th:only-of-type {\n",
       "        vertical-align: middle;\n",
       "    }\n",
       "\n",
       "    .dataframe tbody tr th {\n",
       "        vertical-align: top;\n",
       "    }\n",
       "\n",
       "    .dataframe thead th {\n",
       "        text-align: right;\n",
       "    }\n",
       "</style>\n",
       "<table border=\"1\" class=\"dataframe\">\n",
       "  <thead>\n",
       "    <tr style=\"text-align: right;\">\n",
       "      <th></th>\n",
       "      <th>custAge</th>\n",
       "      <th>campaign</th>\n",
       "      <th>previous</th>\n",
       "      <th>emp.var.rate</th>\n",
       "      <th>cons.price.idx</th>\n",
       "      <th>cons.conf.idx</th>\n",
       "      <th>euribor3m</th>\n",
       "      <th>nr.employed</th>\n",
       "      <th>pastEmail</th>\n",
       "      <th>profession_Unemployed&amp;Unknown</th>\n",
       "      <th>...</th>\n",
       "      <th>poutcome_nonexistent</th>\n",
       "      <th>poutcome_success</th>\n",
       "      <th>quarter_Q2</th>\n",
       "      <th>quarter_Q3</th>\n",
       "      <th>quarter_Q4</th>\n",
       "      <th>pdays_bin_less than 5 days</th>\n",
       "      <th>pdays_bin_more than 10 days</th>\n",
       "      <th>pdays_bin_new visit</th>\n",
       "      <th>pmonths_bin_more than 2 months</th>\n",
       "      <th>pmonths_bin_new visit</th>\n",
       "    </tr>\n",
       "  </thead>\n",
       "  <tbody>\n",
       "    <tr>\n",
       "      <th>0</th>\n",
       "      <td>-0.597795</td>\n",
       "      <td>-0.195319</td>\n",
       "      <td>-0.354742</td>\n",
       "      <td>-1.194204</td>\n",
       "      <td>-0.861075</td>\n",
       "      <td>-1.404311</td>\n",
       "      <td>-1.207010</td>\n",
       "      <td>-0.925255</td>\n",
       "      <td>-0.282944</td>\n",
       "      <td>False</td>\n",
       "      <td>...</td>\n",
       "      <td>True</td>\n",
       "      <td>False</td>\n",
       "      <td>True</td>\n",
       "      <td>False</td>\n",
       "      <td>False</td>\n",
       "      <td>False</td>\n",
       "      <td>False</td>\n",
       "      <td>True</td>\n",
       "      <td>False</td>\n",
       "      <td>True</td>\n",
       "    </tr>\n",
       "    <tr>\n",
       "      <th>1</th>\n",
       "      <td>-0.914136</td>\n",
       "      <td>11.982073</td>\n",
       "      <td>-0.354742</td>\n",
       "      <td>0.853874</td>\n",
       "      <td>0.599424</td>\n",
       "      <td>-0.455814</td>\n",
       "      <td>0.788590</td>\n",
       "      <td>0.856730</td>\n",
       "      <td>-0.282944</td>\n",
       "      <td>False</td>\n",
       "      <td>...</td>\n",
       "      <td>True</td>\n",
       "      <td>False</td>\n",
       "      <td>False</td>\n",
       "      <td>True</td>\n",
       "      <td>False</td>\n",
       "      <td>False</td>\n",
       "      <td>False</td>\n",
       "      <td>True</td>\n",
       "      <td>False</td>\n",
       "      <td>True</td>\n",
       "    </tr>\n",
       "    <tr>\n",
       "      <th>2</th>\n",
       "      <td>-0.386901</td>\n",
       "      <td>-0.564331</td>\n",
       "      <td>-0.354742</td>\n",
       "      <td>0.853874</td>\n",
       "      <td>1.547102</td>\n",
       "      <td>-0.261803</td>\n",
       "      <td>0.784565</td>\n",
       "      <td>0.856730</td>\n",
       "      <td>-0.282944</td>\n",
       "      <td>False</td>\n",
       "      <td>...</td>\n",
       "      <td>True</td>\n",
       "      <td>False</td>\n",
       "      <td>True</td>\n",
       "      <td>False</td>\n",
       "      <td>False</td>\n",
       "      <td>False</td>\n",
       "      <td>False</td>\n",
       "      <td>True</td>\n",
       "      <td>False</td>\n",
       "      <td>True</td>\n",
       "    </tr>\n",
       "    <tr>\n",
       "      <th>3</th>\n",
       "      <td>1.300250</td>\n",
       "      <td>-0.195319</td>\n",
       "      <td>-0.354742</td>\n",
       "      <td>0.853874</td>\n",
       "      <td>0.599424</td>\n",
       "      <td>-0.455814</td>\n",
       "      <td>0.785140</td>\n",
       "      <td>0.856730</td>\n",
       "      <td>-0.282944</td>\n",
       "      <td>False</td>\n",
       "      <td>...</td>\n",
       "      <td>True</td>\n",
       "      <td>False</td>\n",
       "      <td>False</td>\n",
       "      <td>True</td>\n",
       "      <td>False</td>\n",
       "      <td>False</td>\n",
       "      <td>False</td>\n",
       "      <td>True</td>\n",
       "      <td>False</td>\n",
       "      <td>True</td>\n",
       "    </tr>\n",
       "    <tr>\n",
       "      <th>4</th>\n",
       "      <td>-0.070560</td>\n",
       "      <td>1.280728</td>\n",
       "      <td>-0.354742</td>\n",
       "      <td>0.853874</td>\n",
       "      <td>0.599424</td>\n",
       "      <td>-0.455814</td>\n",
       "      <td>0.784565</td>\n",
       "      <td>0.856730</td>\n",
       "      <td>-0.282944</td>\n",
       "      <td>False</td>\n",
       "      <td>...</td>\n",
       "      <td>True</td>\n",
       "      <td>False</td>\n",
       "      <td>False</td>\n",
       "      <td>True</td>\n",
       "      <td>False</td>\n",
       "      <td>False</td>\n",
       "      <td>False</td>\n",
       "      <td>True</td>\n",
       "      <td>False</td>\n",
       "      <td>True</td>\n",
       "    </tr>\n",
       "  </tbody>\n",
       "</table>\n",
       "<p>5 rows × 32 columns</p>\n",
       "</div>"
      ],
      "text/plain": [
       "    custAge   campaign  previous  emp.var.rate  cons.price.idx  cons.conf.idx  \\\n",
       "0 -0.597795  -0.195319 -0.354742     -1.194204       -0.861075      -1.404311   \n",
       "1 -0.914136  11.982073 -0.354742      0.853874        0.599424      -0.455814   \n",
       "2 -0.386901  -0.564331 -0.354742      0.853874        1.547102      -0.261803   \n",
       "3  1.300250  -0.195319 -0.354742      0.853874        0.599424      -0.455814   \n",
       "4 -0.070560   1.280728 -0.354742      0.853874        0.599424      -0.455814   \n",
       "\n",
       "   euribor3m  nr.employed  pastEmail  profession_Unemployed&Unknown  ...  \\\n",
       "0  -1.207010    -0.925255  -0.282944                          False  ...   \n",
       "1   0.788590     0.856730  -0.282944                          False  ...   \n",
       "2   0.784565     0.856730  -0.282944                          False  ...   \n",
       "3   0.785140     0.856730  -0.282944                          False  ...   \n",
       "4   0.784565     0.856730  -0.282944                          False  ...   \n",
       "\n",
       "   poutcome_nonexistent  poutcome_success  quarter_Q2  quarter_Q3  quarter_Q4  \\\n",
       "0                  True             False        True       False       False   \n",
       "1                  True             False       False        True       False   \n",
       "2                  True             False        True       False       False   \n",
       "3                  True             False       False        True       False   \n",
       "4                  True             False       False        True       False   \n",
       "\n",
       "   pdays_bin_less than 5 days  pdays_bin_more than 10 days  \\\n",
       "0                       False                        False   \n",
       "1                       False                        False   \n",
       "2                       False                        False   \n",
       "3                       False                        False   \n",
       "4                       False                        False   \n",
       "\n",
       "   pdays_bin_new visit  pmonths_bin_more than 2 months  pmonths_bin_new visit  \n",
       "0                 True                           False                   True  \n",
       "1                 True                           False                   True  \n",
       "2                 True                           False                   True  \n",
       "3                 True                           False                   True  \n",
       "4                 True                           False                   True  \n",
       "\n",
       "[5 rows x 32 columns]"
      ]
     },
     "execution_count": 584,
     "metadata": {},
     "output_type": "execute_result"
    }
   ],
   "source": [
    "X_encoded.head()"
   ]
  },
  {
   "cell_type": "code",
   "execution_count": 585,
   "id": "e2c5afa4",
   "metadata": {},
   "outputs": [
    {
     "data": {
      "text/plain": [
       "(8105, 32)"
      ]
     },
     "execution_count": 585,
     "metadata": {},
     "output_type": "execute_result"
    }
   ],
   "source": [
    "X_encoded.shape"
   ]
  },
  {
   "cell_type": "markdown",
   "id": "79a77f4e",
   "metadata": {},
   "source": [
    "-------------------------------------------------------------------------------------------------------------------------------"
   ]
  },
  {
   "cell_type": "markdown",
   "id": "f7ff1f82",
   "metadata": {},
   "source": [
    "# Choice of sampling:\n",
    "The data is highly imbalanced, so resampling is necessary. Using only oversampling could create too many synthetic examples, while undersampling might lose important information. Therefore, a mixed sampling method called **SMOTE-NN** is used, which combines both techniques. SMOTE generates synthetic data for the minority class using k-nearest neighbors to balance the dataset.\n"
   ]
  },
  {
   "cell_type": "markdown",
   "id": "92928c35",
   "metadata": {},
   "source": [
    "-------------------------------------------------------------------------------------------------------------------------------"
   ]
  },
  {
   "cell_type": "markdown",
   "id": "c861f7f3",
   "metadata": {},
   "source": [
    "# Metrics and Model Choice:\n",
    "Due to the highly imbalanced data, machine learning models tend to predict the majority class (in this case, \"No\" for not responding), leading to high overall accuracy. However, this can be misleading for the business, as failing to identify potential customers (\"Yes\" for responded) could result in missed revenue opportunities.\n",
    "\n",
    "Thus, it's crucial to improve the recall of the minority class (\"Yes\"), as not marketing to potential customers can be costly. While focusing solely on accuracy may result in high numbers (e.g., a Random Forest Classifier achieving 89% accuracy without addressing imbalance), the recall for the minority class could drop as low as 30%. This would cause the company to miss out on potential customers.\n",
    "\n",
    "At the same time, accuracy must remain high to avoid excessive marketing costs by targeting those unlikely to buy. The project specifies maintaining accuracy above 85%, while this report emphasizes maximizing recall for the minority class without letting accuracy fall below the required threshold.\n",
    "\n",
    "To strike a balance between accuracy and recall, an **XGBoost Classifier** was chosen for the model. XGBoost (Extreme Gradient Boosting) is a powerful, highly efficient algorithm known for its ability to handle imbalanced datasets, which is crucial for this project. Its advanced handling of gradient boosting helps in improving model precision without overfitting, especially in cases where one class significantly outnumbers the other, as is the case here."
   ]
  },
  {
   "cell_type": "markdown",
   "id": "5db6e5a5",
   "metadata": {},
   "source": [
    "----------------------------------------------------------------------------------------------------------------------------"
   ]
  },
  {
   "cell_type": "markdown",
   "id": "47e7ab13",
   "metadata": {},
   "source": [
    "# Model"
   ]
  },
  {
   "cell_type": "code",
   "execution_count": 586,
   "id": "d9494541",
   "metadata": {},
   "outputs": [],
   "source": [
    "import numpy as np\n",
    "from sklearn.model_selection import train_test_split\n",
    "from sklearn.ensemble import RandomForestClassifier\n",
    "from imblearn.combine import SMOTEENN\n",
    "from sklearn.metrics import accuracy_score, classification_report, confusion_matrix\n",
    "from sklearn.model_selection import GridSearchCV\n",
    "\n",
    "\n",
    "# Split the data into training and testing sets\n",
    "X_train, X_test, y_train, y_test = train_test_split(X_encoded, y_encoded, test_size=0.2, random_state=42)\n",
    "\n",
    "\n",
    "y_train = np.array(y_train)\n",
    "y_test = np.array(y_test)\n",
    "\n",
    "# Apply SMOTEENN to the training data\n",
    "smoteenn = SMOTEENN(random_state=42)\n",
    "X_train_resampled, y_train_resampled = smoteenn.fit_resample(X_train, y_train)\n"
   ]
  },
  {
   "cell_type": "code",
   "execution_count": 587,
   "id": "5fb971c0",
   "metadata": {},
   "outputs": [
    {
     "name": "stdout",
     "output_type": "stream",
     "text": [
      "Accuracy: 0.8507\n",
      "Classification Report:\n",
      "              precision    recall  f1-score   support\n",
      "\n",
      "           0       0.95      0.88      0.91      1457\n",
      "           1       0.35      0.56      0.43       164\n",
      "\n",
      "    accuracy                           0.85      1621\n",
      "   macro avg       0.65      0.72      0.67      1621\n",
      "weighted avg       0.89      0.85      0.87      1621\n",
      "\n"
     ]
    },
    {
     "data": {
      "image/png": "[encoded data removed]",
      "text/plain": [
       "<Figure size 600x400 with 2 Axes>"
      ]
     },
     "metadata": {},
     "output_type": "display_data"
    }
   ],
   "source": [
    "import xgboost as xgb\n",
    "\n",
    "xgb_clf = xgb.XGBClassifier(random_state=42)\n",
    "\n",
    "# Train the classifier\n",
    "xgb_clf.fit(X_train_resampled, y_train_resampled)\n",
    "\n",
    "# Make predictions\n",
    "y_pred = xgb_clf.predict(X_test)\n",
    "\n",
    "\n",
    "# Evaluate the accuracy\n",
    "accuracy = accuracy_score(y_test, y_pred)\n",
    "print(f\"Accuracy: {accuracy:.4f}\")\n",
    "\n",
    "# Display classification report\n",
    "print(\"Classification Report:\")\n",
    "print(classification_report(y_test, y_pred))\n",
    "\n",
    "# Get the confusion matrix\n",
    "conf_matrix = confusion_matrix(y_test, y_pred)\n",
    "\n",
    "plt.figure(figsize=(6,4))\n",
    "sns.heatmap(conf_matrix, annot=True, fmt='d', cmap='Blues', \n",
    "            xticklabels=['Predicted No', 'Predicted Yes'], \n",
    "            yticklabels=['Actual No', 'Actual Yes'])\n",
    "plt.title('Confusion Matrix - XGB ')\n",
    "plt.ylabel('True Label')\n",
    "plt.xlabel('Predicted Label')\n",
    "plt.tight_layout()\n",
    "plt.show()"
   ]
  },
  {
   "cell_type": "code",
   "execution_count": 588,
   "id": "358fff7e",
   "metadata": {},
   "outputs": [
    {
     "data": {
      "image/png": "[encoded data removed]",
      "text/plain": [
       "<Figure size 640x480 with 1 Axes>"
      ]
     },
     "metadata": {},
     "output_type": "display_data"
    }
   ],
   "source": [
    "# Get top 10 feature importances\n",
    "importances = xgb_clf.feature_importances_\n",
    "feature_importance_df = pd.DataFrame({'Feature': X_train_resampled.columns, 'Importance': importances})\n",
    "feature_importance_df = feature_importance_df.sort_values(by='Importance', ascending=False).head(10)\n",
    "\n",
    "# Plot feature importance\n",
    "feature_importance_df.plot(kind='barh', x='Feature', y='Importance', title='Top 10 Feature Importances')\n",
    "plt.tight_layout()\n",
    "plt.show()"
   ]
  },
  {
   "cell_type": "markdown",
   "id": "8b028f0e",
   "metadata": {},
   "source": [
    "# Fine-tuning XGBoost with Regularization"
   ]
  },
  {
   "cell_type": "code",
   "execution_count": 589,
   "id": "87d7770d",
   "metadata": {},
   "outputs": [
    {
     "name": "stdout",
     "output_type": "stream",
     "text": [
      "Fitting 5 folds for each of 243 candidates, totalling 1215 fits\n",
      "Best Regularization Parameters: {'gamma': 0, 'learning_rate': 0.2, 'max_depth': 7, 'n_estimators': 200, 'reg_lambda': 0.5}\n"
     ]
    }
   ],
   "source": [
    "\n",
    "# Define the parameter grid for regularization\n",
    "param_grid = {\n",
    "    'learning_rate': [0.01, 0.1, 0.2],\n",
    "    'reg_lambda': [0, 0.5, 1.0],  # L2 regularization\n",
    "    'max_depth': [3, 5, 7],    \n",
    "    'gamma': [0, 0.5, 1.0],  \n",
    "    'n_estimators': [50, 100, 200]  \n",
    "}\n",
    "\n",
    "\n",
    "# Perform grid search to find the best parameters\n",
    "grid_search = GridSearchCV(estimator=xgb_clf, \n",
    "                           param_grid=param_grid, \n",
    "                           scoring='accuracy', \n",
    "                           cv=5, \n",
    "                           verbose=1, \n",
    "                           n_jobs=-1)\n",
    "\n",
    "# Fit the model with the training data \n",
    "grid_search.fit(X_train_resampled, y_train_resampled)\n",
    "\n",
    "# Get the best model and parameters\n",
    "best_xgb = grid_search.best_estimator_\n",
    "print('Best Regularization Parameters:', grid_search.best_params_)\n",
    "\n"
   ]
  },
  {
   "cell_type": "code",
   "execution_count": 590,
   "id": "29ae2f32",
   "metadata": {},
   "outputs": [
    {
     "name": "stdout",
     "output_type": "stream",
     "text": [
      "Accuracy: 0.8476\n",
      "Classification Report:\n",
      "              precision    recall  f1-score   support\n",
      "\n",
      "           0       0.95      0.88      0.91      1457\n",
      "           1       0.35      0.57      0.43       164\n",
      "\n",
      "    accuracy                           0.85      1621\n",
      "   macro avg       0.65      0.72      0.67      1621\n",
      "weighted avg       0.89      0.85      0.86      1621\n",
      "\n"
     ]
    },
    {
     "data": {
      "image/png": "[encoded data removed]",
      "text/plain": [
       "<Figure size 600x400 with 2 Axes>"
      ]
     },
     "metadata": {},
     "output_type": "display_data"
    }
   ],
   "source": [
    "# Prediction by tuned model\n",
    "y_pred = best_xgb.predict(X_test)\n",
    "\n",
    "# Evaluate the accuracy\n",
    "accuracy = accuracy_score(y_test, y_pred)\n",
    "print(f\"Accuracy: {accuracy:.4f}\")\n",
    "\n",
    "# Display classification report\n",
    "print(\"Classification Report:\")\n",
    "print(classification_report(y_test, y_pred))\n",
    "\n",
    "# Get the confusion matrix\n",
    "conf_matrix = confusion_matrix(y_test, y_pred)\n",
    "\n",
    "plt.figure(figsize=(6,4))\n",
    "sns.heatmap(conf_matrix, annot=True, fmt='d', cmap='Blues', \n",
    "            xticklabels=['Predicted No', 'Predicted Yes'], \n",
    "            yticklabels=['Actual No', 'Actual Yes'])\n",
    "plt.title('Confusion Matrix - XGB Tuned')\n",
    "plt.ylabel('True Label')\n",
    "plt.xlabel('Predicted Label')\n",
    "plt.tight_layout()\n",
    "plt.show()"
   ]
  },
  {
   "cell_type": "markdown",
   "id": "518b175a",
   "metadata": {},
   "source": [
    "# Model Utility\n",
    "\n",
    "The results show that the model maximizes recall for the minority class while maintaining accuracy above 85%, meeting project requirements. This ensures a good balance between accuracy and recall, helping the company control marketing costs while reaching most potential customers. Since hyperparameter tuning resulted in lower accuracy than the default settings, the default model is preferred."
   ]
  },
  {
   "cell_type": "markdown",
   "id": "814cc817",
   "metadata": {},
   "source": [
    "-----------------------------------------------------------------------------------------------------------------------"
   ]
  },
  {
   "cell_type": "code",
   "execution_count": null,
   "id": "0be4d66c",
   "metadata": {},
   "outputs": [],
   "source": []
  }
 ],
 "metadata": {
  "kernelspec": {
   "display_name": "Python 3",
   "language": "python",
   "name": "python3"
  },
  "language_info": {
   "codemirror_mode": {
    "name": "ipython",
    "version": 3
   },
   "file_extension": ".py",
   "mimetype": "text/x-python",
   "name": "python",
   "nbconvert_exporter": "python",
   "pygments_lexer": "ipython3",
   "version": "3.10.6"
  }
 },
 "nbformat": 4,
 "nbformat_minor": 5
}
